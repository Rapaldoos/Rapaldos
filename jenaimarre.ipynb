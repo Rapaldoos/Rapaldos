{
 "cells": [
  {
   "cell_type": "code",
   "execution_count": 23,
   "id": "2772cfbf-f888-49e7-8558-115e131765fe",
   "metadata": {},
   "outputs": [],
   "source": [
    "def f(x):\n",
    "   return x*x\n"
   ]
  },
  {
   "cell_type": "code",
   "execution_count": null,
   "id": "ac1cf7f9-8a93-495f-83d3-d06379e954d8",
   "metadata": {},
   "outputs": [],
   "source": []
  },
  {
   "cell_type": "code",
   "execution_count": 44,
   "id": "a898dae1-d1f8-4e82-8b94-d014d2936b5f",
   "metadata": {},
   "outputs": [
    {
     "ename": "NameError",
     "evalue": "name 'x' is not defined",
     "output_type": "error",
     "traceback": [
      "\u001b[0;31m---------------------------------------------------------------------------\u001b[0m",
      "\u001b[0;31mNameError\u001b[0m                                 Traceback (most recent call last)",
      "Cell \u001b[0;32mIn[44], line 1\u001b[0m\n\u001b[0;32m----> 1\u001b[0m (\u001b[43mf\u001b[49m\u001b[43m(\u001b[49m\u001b[38;5;124;43m\"\u001b[39;49m\u001b[38;5;124;43ma\u001b[39;49m\u001b[38;5;124;43m\"\u001b[39;49m\u001b[38;5;241;43m*\u001b[39;49m\u001b[38;5;241;43m3\u001b[39;49m\u001b[43m)\u001b[49m)\n",
      "Cell \u001b[0;32mIn[35], line 2\u001b[0m, in \u001b[0;36mf\u001b[0;34m(a)\u001b[0m\n\u001b[1;32m      1\u001b[0m \u001b[38;5;28;01mdef\u001b[39;00m \u001b[38;5;21mf\u001b[39m(a):\n\u001b[0;32m----> 2\u001b[0m     \u001b[38;5;28;01mreturn\u001b[39;00m a\u001b[38;5;241m*\u001b[39m\u001b[43mx\u001b[49m\n",
      "\u001b[0;31mNameError\u001b[0m: name 'x' is not defined"
     ]
    }
   ],
   "source": [
    "(f(\"a\"*3))"
   ]
  },
  {
   "cell_type": "code",
   "execution_count": 45,
   "id": "62a519ef-fcf5-4e49-ac14-70253f0f9b7b",
   "metadata": {},
   "outputs": [
    {
     "data": {
      "text/plain": [
       "'aaa'"
      ]
     },
     "execution_count": 45,
     "metadata": {},
     "output_type": "execute_result"
    }
   ],
   "source": [
    "\"a\"*3"
   ]
  },
  {
   "cell_type": "code",
   "execution_count": 47,
   "id": "8a1c5e20-9c67-451b-8a73-1203e8360dc8",
   "metadata": {},
   "outputs": [
    {
     "ename": "TypeError",
     "evalue": "can't multiply sequence by non-int of type 'str'",
     "output_type": "error",
     "traceback": [
      "\u001b[0;31m---------------------------------------------------------------------------\u001b[0m",
      "\u001b[0;31mTypeError\u001b[0m                                 Traceback (most recent call last)",
      "Cell \u001b[0;32mIn[47], line 1\u001b[0m\n\u001b[0;32m----> 1\u001b[0m \u001b[38;5;124;43m\"\u001b[39;49m\u001b[38;5;124;43ma\u001b[39;49m\u001b[38;5;124;43m\"\u001b[39;49m\u001b[38;5;241;43m*\u001b[39;49m\u001b[38;5;124;43m\"\u001b[39;49m\u001b[38;5;124;43ma\u001b[39;49m\u001b[38;5;124;43m\"\u001b[39;49m\n",
      "\u001b[0;31mTypeError\u001b[0m: can't multiply sequence by non-int of type 'str'"
     ]
    }
   ],
   "source": [
    "\"a\"*\"a\""
   ]
  },
  {
   "cell_type": "code",
   "execution_count": 48,
   "id": "3f3aa664-e984-454e-932d-a42b5887939c",
   "metadata": {},
   "outputs": [
    {
     "ename": "NameError",
     "evalue": "name 'a' is not defined",
     "output_type": "error",
     "traceback": [
      "\u001b[0;31m---------------------------------------------------------------------------\u001b[0m",
      "\u001b[0;31mNameError\u001b[0m                                 Traceback (most recent call last)",
      "Cell \u001b[0;32mIn[48], line 1\u001b[0m\n\u001b[0;32m----> 1\u001b[0m \u001b[43ma\u001b[49m\u001b[38;5;241m*\u001b[39ma\n",
      "\u001b[0;31mNameError\u001b[0m: name 'a' is not defined"
     ]
    }
   ],
   "source": [
    "a*a"
   ]
  },
  {
   "cell_type": "code",
   "execution_count": 24,
   "id": "0217f2b5-29b8-4bba-9b30-0f1837c5585f",
   "metadata": {},
   "outputs": [
    {
     "name": "stdout",
     "output_type": "stream",
     "text": [
      "4\n"
     ]
    }
   ],
   "source": [
    "print (f(2))"
   ]
  },
  {
   "cell_type": "code",
   "execution_count": 50,
   "id": "fd557963-f272-4971-883a-7528fd1a96a9",
   "metadata": {},
   "outputs": [
    {
     "ename": "NameError",
     "evalue": "name 'a' is not defined",
     "output_type": "error",
     "traceback": [
      "\u001b[0;31m---------------------------------------------------------------------------\u001b[0m",
      "\u001b[0;31mNameError\u001b[0m                                 Traceback (most recent call last)",
      "Cell \u001b[0;32mIn[50], line 1\u001b[0m\n\u001b[0;32m----> 1\u001b[0m (f(\u001b[43ma\u001b[49m\u001b[38;5;241m*\u001b[39ma))\n",
      "\u001b[0;31mNameError\u001b[0m: name 'a' is not defined"
     ]
    }
   ],
   "source": [
    "(f(a*a))"
   ]
  },
  {
   "cell_type": "code",
   "execution_count": 25,
   "id": "dbc8847a-c608-4130-8c09-5cc79f5f6083",
   "metadata": {},
   "outputs": [
    {
     "data": {
      "text/plain": [
       "16"
      ]
     },
     "execution_count": 25,
     "metadata": {},
     "output_type": "execute_result"
    }
   ],
   "source": [
    "(f(4))"
   ]
  },
  {
   "cell_type": "code",
   "execution_count": 21,
   "id": "e661cd53-f803-4a75-8777-9d1aa378ac7c",
   "metadata": {},
   "outputs": [],
   "source": [
    "def f2(y):\n",
    "    return \"ya\""
   ]
  },
  {
   "cell_type": "code",
   "execution_count": 38,
   "id": "6840b927-6ece-4b02-84ec-a25b13f9c478",
   "metadata": {},
   "outputs": [
    {
     "data": {
      "text/plain": [
       "'ya'"
      ]
     },
     "execution_count": 38,
     "metadata": {},
     "output_type": "execute_result"
    }
   ],
   "source": [
    "(f2(\"any_input\"))"
   ]
  },
  {
   "cell_type": "code",
   "execution_count": 51,
   "id": "b7e6a34f-dba3-470f-95bb-dffaa7fc7d50",
   "metadata": {},
   "outputs": [
    {
     "data": {
      "text/plain": [
       "'ya'"
      ]
     },
     "execution_count": 51,
     "metadata": {},
     "output_type": "execute_result"
    }
   ],
   "source": [
    "(f2(4))"
   ]
  },
  {
   "cell_type": "code",
   "execution_count": 52,
   "id": "9339b7ab-91c8-4a73-ac32-1bb0f8a44a95",
   "metadata": {},
   "outputs": [
    {
     "data": {
      "text/plain": [
       "'ya'"
      ]
     },
     "execution_count": 52,
     "metadata": {},
     "output_type": "execute_result"
    }
   ],
   "source": [
    "(f2(4+7))"
   ]
  },
  {
   "cell_type": "code",
   "execution_count": 53,
   "id": "c4a21741-9b1f-478b-85ae-3f6f2b2ec8b7",
   "metadata": {},
   "outputs": [
    {
     "ename": "NameError",
     "evalue": "name 'sdf' is not defined",
     "output_type": "error",
     "traceback": [
      "\u001b[0;31m---------------------------------------------------------------------------\u001b[0m",
      "\u001b[0;31mNameError\u001b[0m                                 Traceback (most recent call last)",
      "Cell \u001b[0;32mIn[53], line 1\u001b[0m\n\u001b[0;32m----> 1\u001b[0m (f2(\u001b[43msdf\u001b[49m))\n",
      "\u001b[0;31mNameError\u001b[0m: name 'sdf' is not defined"
     ]
    }
   ],
   "source": [
    "(f2(sdf))"
   ]
  },
  {
   "cell_type": "code",
   "execution_count": 42,
   "id": "d004e8b0-ca5d-4fd2-a738-3de1304a92ff",
   "metadata": {},
   "outputs": [
    {
     "ename": "SyntaxError",
     "evalue": "invalid syntax. Perhaps you forgot a comma? (3638620434.py, line 1)",
     "output_type": "error",
     "traceback": [
      "\u001b[0;36m  Cell \u001b[0;32mIn[42], line 1\u001b[0;36m\u001b[0m\n\u001b[0;31m    (f(\"a\".3))\u001b[0m\n\u001b[0m       ^\u001b[0m\n\u001b[0;31mSyntaxError\u001b[0m\u001b[0;31m:\u001b[0m invalid syntax. Perhaps you forgot a comma?\n"
     ]
    }
   ],
   "source": [
    "(f(\"a\".3))"
   ]
  },
  {
   "cell_type": "code",
   "execution_count": 35,
   "id": "0ffe3d4e-5c1f-492a-a7fc-82c1e34a2e5d",
   "metadata": {},
   "outputs": [],
   "source": [
    "def f(a):\n",
    "    return a*x"
   ]
  },
  {
   "cell_type": "code",
   "execution_count": 29,
   "id": "d78e530f-dc85-4645-95b7-f0373b3eb780",
   "metadata": {},
   "outputs": [
    {
     "data": {
      "text/plain": [
       "9"
      ]
     },
     "execution_count": 29,
     "metadata": {},
     "output_type": "execute_result"
    }
   ],
   "source": [
    "(f(3))"
   ]
  },
  {
   "cell_type": "code",
   "execution_count": 36,
   "id": "26ebef86-5aca-4822-9e75-9b1971e4ed90",
   "metadata": {},
   "outputs": [
    {
     "ename": "NameError",
     "evalue": "name 'a' is not defined",
     "output_type": "error",
     "traceback": [
      "\u001b[0;31m---------------------------------------------------------------------------\u001b[0m",
      "\u001b[0;31mNameError\u001b[0m                                 Traceback (most recent call last)",
      "Cell \u001b[0;32mIn[36], line 1\u001b[0m\n\u001b[0;32m----> 1\u001b[0m (f(\u001b[43ma\u001b[49m))\n",
      "\u001b[0;31mNameError\u001b[0m: name 'a' is not defined"
     ]
    }
   ],
   "source": [
    "(f(a))"
   ]
  },
  {
   "cell_type": "code",
   "execution_count": null,
   "id": "13d1533d-5e26-490c-a5d5-e66e929c2662",
   "metadata": {},
   "outputs": [],
   "source": []
  },
  {
   "cell_type": "code",
   "execution_count": null,
   "id": "ac97e548-0b6d-4156-a1f8-2c0a9e6a47f8",
   "metadata": {},
   "outputs": [],
   "source": []
  },
  {
   "cell_type": "code",
   "execution_count": 54,
   "id": "e49e907c-bda3-42f2-aacb-937805aa1422",
   "metadata": {},
   "outputs": [],
   "source": [
    "def f3(y:str)-> str:\n",
    "    return y"
   ]
  },
  {
   "cell_type": "code",
   "execution_count": 55,
   "id": "4b716049-024a-4a5b-a896-2808daeef584",
   "metadata": {},
   "outputs": [
    {
     "data": {
      "text/plain": [
       "'Bonjour'"
      ]
     },
     "execution_count": 55,
     "metadata": {},
     "output_type": "execute_result"
    }
   ],
   "source": [
    "(f3(\"Bonjour\"))"
   ]
  },
  {
   "cell_type": "code",
   "execution_count": 56,
   "id": "690777db-79ce-4785-a25a-98e86ed7998c",
   "metadata": {},
   "outputs": [
    {
     "ename": "NameError",
     "evalue": "name 'yo' is not defined",
     "output_type": "error",
     "traceback": [
      "\u001b[0;31m---------------------------------------------------------------------------\u001b[0m",
      "\u001b[0;31mNameError\u001b[0m                                 Traceback (most recent call last)",
      "Cell \u001b[0;32mIn[56], line 1\u001b[0m\n\u001b[0;32m----> 1\u001b[0m (f3(\u001b[43myo\u001b[49m))\n",
      "\u001b[0;31mNameError\u001b[0m: name 'yo' is not defined"
     ]
    }
   ],
   "source": [
    "(f3(yo))"
   ]
  },
  {
   "cell_type": "code",
   "execution_count": 57,
   "id": "737b5299-3ae5-4c36-966f-abd761956494",
   "metadata": {},
   "outputs": [
    {
     "data": {
      "text/plain": [
       "'yo'"
      ]
     },
     "execution_count": 57,
     "metadata": {},
     "output_type": "execute_result"
    }
   ],
   "source": [
    "(f3(\"yo\"))"
   ]
  },
  {
   "cell_type": "code",
   "execution_count": 58,
   "id": "ec6ce692-4854-404f-8030-d8e92b01fd1b",
   "metadata": {},
   "outputs": [
    {
     "data": {
      "text/plain": [
       "123"
      ]
     },
     "execution_count": 58,
     "metadata": {},
     "output_type": "execute_result"
    }
   ],
   "source": [
    "(f3(123))"
   ]
  },
  {
   "cell_type": "code",
   "execution_count": 60,
   "id": "33ac8b6f-e4a5-4b74-8bb5-6b3bb0113037",
   "metadata": {},
   "outputs": [],
   "source": [
    "def f3(y:str)-> str:\n",
    "    return str "
   ]
  },
  {
   "cell_type": "code",
   "execution_count": 61,
   "id": "40dfb0fe-73d8-4dc4-95b7-62893cad681e",
   "metadata": {},
   "outputs": [
    {
     "data": {
      "text/plain": [
       "str"
      ]
     },
     "execution_count": 61,
     "metadata": {},
     "output_type": "execute_result"
    }
   ],
   "source": [
    "(f3(\"yo\"))"
   ]
  },
  {
   "cell_type": "code",
   "execution_count": 62,
   "id": "bcbb32f9-7a3d-4527-b644-e301914a392a",
   "metadata": {},
   "outputs": [],
   "source": [
    "t = [1,2,3]"
   ]
  },
  {
   "cell_type": "code",
   "execution_count": 63,
   "id": "a495f281-e880-4ff4-80ae-eb213577d6e7",
   "metadata": {},
   "outputs": [
    {
     "data": {
      "text/plain": [
       "1"
      ]
     },
     "execution_count": 63,
     "metadata": {},
     "output_type": "execute_result"
    }
   ],
   "source": [
    "t[0]"
   ]
  },
  {
   "cell_type": "code",
   "execution_count": 64,
   "id": "029a77eb-0a6a-434a-af5e-935e10a352b7",
   "metadata": {},
   "outputs": [
    {
     "ename": "IndexError",
     "evalue": "list index out of range",
     "output_type": "error",
     "traceback": [
      "\u001b[0;31m---------------------------------------------------------------------------\u001b[0m",
      "\u001b[0;31mIndexError\u001b[0m                                Traceback (most recent call last)",
      "Cell \u001b[0;32mIn[64], line 1\u001b[0m\n\u001b[0;32m----> 1\u001b[0m \u001b[43mt\u001b[49m\u001b[43m[\u001b[49m\u001b[38;5;241;43m4\u001b[39;49m\u001b[43m]\u001b[49m\n",
      "\u001b[0;31mIndexError\u001b[0m: list index out of range"
     ]
    }
   ],
   "source": [
    "t[4]"
   ]
  },
  {
   "cell_type": "code",
   "execution_count": 65,
   "id": "d181c479-e499-4498-8614-bcc832f832e7",
   "metadata": {},
   "outputs": [
    {
     "data": {
      "text/plain": [
       "3"
      ]
     },
     "execution_count": 65,
     "metadata": {},
     "output_type": "execute_result"
    }
   ],
   "source": [
    "t[-1]"
   ]
  },
  {
   "cell_type": "code",
   "execution_count": 67,
   "id": "6a63f57d-3a66-4313-8aa0-7a04456656ce",
   "metadata": {},
   "outputs": [
    {
     "data": {
      "text/plain": [
       "2"
      ]
     },
     "execution_count": 67,
     "metadata": {},
     "output_type": "execute_result"
    }
   ],
   "source": [
    "t[-2]"
   ]
  },
  {
   "cell_type": "code",
   "execution_count": 68,
   "id": "9d5de43f-9c1f-4a54-b970-201a835fc174",
   "metadata": {},
   "outputs": [
    {
     "ename": "IndexError",
     "evalue": "list index out of range",
     "output_type": "error",
     "traceback": [
      "\u001b[0;31m---------------------------------------------------------------------------\u001b[0m",
      "\u001b[0;31mIndexError\u001b[0m                                Traceback (most recent call last)",
      "Cell \u001b[0;32mIn[68], line 1\u001b[0m\n\u001b[0;32m----> 1\u001b[0m \u001b[43mt\u001b[49m\u001b[43m[\u001b[49m\u001b[38;5;241;43m-\u001b[39;49m\u001b[38;5;241;43m5\u001b[39;49m\u001b[43m]\u001b[49m\n",
      "\u001b[0;31mIndexError\u001b[0m: list index out of range"
     ]
    }
   ],
   "source": [
    "t[-5]"
   ]
  },
  {
   "cell_type": "code",
   "execution_count": 74,
   "id": "71fbce24-6dc8-4823-b7b4-7ea6ee287051",
   "metadata": {},
   "outputs": [],
   "source": [
    "t.append ([4])"
   ]
  },
  {
   "cell_type": "code",
   "execution_count": 75,
   "id": "06cdd1b5-598f-4aba-beb0-68567fda49f2",
   "metadata": {},
   "outputs": [
    {
     "name": "stdout",
     "output_type": "stream",
     "text": [
      "[1, 2, 3, [4]]\n"
     ]
    }
   ],
   "source": [
    "print (t)"
   ]
  },
  {
   "cell_type": "code",
   "execution_count": 76,
   "id": "e2313553-ce10-444e-a272-9982e74dffd0",
   "metadata": {},
   "outputs": [],
   "source": [
    "t.append ([4,5])"
   ]
  },
  {
   "cell_type": "code",
   "execution_count": 77,
   "id": "f1c017c7-c263-431c-ae88-4b5e8721ae3a",
   "metadata": {},
   "outputs": [
    {
     "name": "stdout",
     "output_type": "stream",
     "text": [
      "[1, 2, 3, [4], [4, 5]]\n"
     ]
    }
   ],
   "source": [
    "print (t)"
   ]
  },
  {
   "cell_type": "code",
   "execution_count": 79,
   "id": "622fe468-26e1-45d5-ac7f-953acd4d0389",
   "metadata": {},
   "outputs": [],
   "source": [
    "t.remove ([4])"
   ]
  },
  {
   "cell_type": "code",
   "execution_count": 80,
   "id": "7bef7b8e-3a7b-48e6-b1b3-bb29e443d7a7",
   "metadata": {},
   "outputs": [
    {
     "name": "stdout",
     "output_type": "stream",
     "text": [
      "[1, 2, 3, [4, 5]]\n"
     ]
    }
   ],
   "source": [
    "print (t)"
   ]
  },
  {
   "cell_type": "code",
   "execution_count": null,
   "id": "d0d33594-de00-4512-9653-a9cd978b24d2",
   "metadata": {},
   "outputs": [],
   "source": []
  }
 ],
 "metadata": {
  "kernelspec": {
   "display_name": "Python 3 (ipykernel)",
   "language": "python",
   "name": "python3"
  },
  "language_info": {
   "codemirror_mode": {
    "name": "ipython",
    "version": 3
   },
   "file_extension": ".py",
   "mimetype": "text/x-python",
   "name": "python",
   "nbconvert_exporter": "python",
   "pygments_lexer": "ipython3",
   "version": "3.11.9"
  }
 },
 "nbformat": 4,
 "nbformat_minor": 5
}
